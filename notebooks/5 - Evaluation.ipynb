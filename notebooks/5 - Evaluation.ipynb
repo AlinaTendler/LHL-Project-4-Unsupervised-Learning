{
 "cells": [
  {
   "cell_type": "markdown",
   "metadata": {},
   "source": [
    "# Evaluation\n",
    "**Goal:** Compare the performance of K-Means, Hierarchical Clustering, and DBSCAN, and draw a conclusion aout the best method for the dataset"
   ]
  },
  {
   "cell_type": "markdown",
   "metadata": {},
   "source": [
    "### 1. Load clustered data\n",
    "- load the 3 datasets containing the results from the three different clustering notebooks"
   ]
  },
  {
   "cell_type": "code",
   "execution_count": null,
   "metadata": {},
   "outputs": [],
   "source": []
  },
  {
   "cell_type": "markdown",
   "metadata": {},
   "source": [
    "### 2. Evaluate clustering methods\n",
    "- Calculate evaluation metrics for each clustering method\n",
    "    - [Silhouette Score](https://scikit-learn.org/stable/modules/generated/sklearn.metrics.silhouette_score.html)\n",
    "    - [Rand Score](https://scikit-learn.org/stable/modules/generated/sklearn.metrics.rand_score.html)\n",
    "    - [Mutual Information Score](https://scikit-learn.org/stable/modules/generated/sklearn.metrics.mutual_info_score.html#sklearn.metrics.mutual_info_score)\n",
    "    - others you find relevant in the [SciKit Learn Documentation](https://scikit-learn.org/1.5/api/sklearn.metrics.html#module-sklearn.metrics.cluster)"
   ]
  },
  {
   "cell_type": "code",
   "execution_count": null,
   "metadata": {},
   "outputs": [],
   "source": []
  },
  {
   "cell_type": "markdown",
   "metadata": {},
   "source": [
    "### 3. Compare results\n",
    "- create a [table](https://www.markdownguide.org/extended-syntax/#tables) with the evaluation metrics for all three clustering methods ([here's a handy site](https://www.tablesgenerator.com/markdown_tables) that may help construct your table in markdown)"
   ]
  },
  {
   "cell_type": "code",
   "execution_count": null,
   "metadata": {},
   "outputs": [],
   "source": []
  },
  {
   "cell_type": "markdown",
   "metadata": {},
   "source": [
    "(*Move on to steps 5b, 5c, 5d in `assignment.md`*)"
   ]
  }
 ],
 "metadata": {
  "language_info": {
   "name": "python"
  },
  "orig_nbformat": 4
 },
 "nbformat": 4,
 "nbformat_minor": 2
}
