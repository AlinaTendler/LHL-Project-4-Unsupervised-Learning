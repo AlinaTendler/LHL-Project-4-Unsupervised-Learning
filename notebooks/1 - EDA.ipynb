{
 "cells": [
  {
   "cell_type": "markdown",
   "metadata": {},
   "source": [
    "# EDA\n",
    "**Goal:** prepare the dataset for clustering by identifying and addressing any data quality issues, and ensuring the data is properly scaled and formatted"
   ]
  },
  {
   "cell_type": "markdown",
   "metadata": {},
   "source": [
    "### 1. Understand dataset\n",
    "- load the dataset and inspect its structure\n",
    "- check datatypes and ensure they match the columns' intended uses"
   ]
  },
  {
   "cell_type": "code",
   "execution_count": null,
   "metadata": {},
   "outputs": [],
   "source": [
    "# replace with imports"
   ]
  },
  {
   "cell_type": "code",
   "execution_count": null,
   "metadata": {},
   "outputs": [],
   "source": []
  },
  {
   "cell_type": "markdown",
   "metadata": {},
   "source": [
    "### 2. Missing values\n",
    "- check for missing values\n",
    "- decide how to handle missing data (drop? fill? impute?)"
   ]
  },
  {
   "cell_type": "code",
   "execution_count": null,
   "metadata": {},
   "outputs": [],
   "source": []
  },
  {
   "cell_type": "markdown",
   "metadata": {},
   "source": [
    "### 3. Analyze feature distributions\n",
    "- for numerical features\n",
    "    - use histograms to visualize distributions\n",
    "    - use box plots to identify outliers\n",
    "- for categorical features\n",
    "- use bar charts to understand frequencies"
   ]
  },
  {
   "cell_type": "code",
   "execution_count": null,
   "metadata": {},
   "outputs": [],
   "source": []
  },
  {
   "cell_type": "markdown",
   "metadata": {},
   "source": [
    "### 4. Feature relationships\n",
    "- calculate and visualize the correlation matrix for numerical features\n",
    "- use scatter plots or pair plots to explore relationships between key/interesting features"
   ]
  },
  {
   "cell_type": "code",
   "execution_count": null,
   "metadata": {},
   "outputs": [],
   "source": []
  },
  {
   "cell_type": "markdown",
   "metadata": {},
   "source": [
    "### 5. Prep for clustering\n",
    "- is Noramalization or Standardization needed? if yes, use it for appropriate features\n",
    "- do any categorical features require one-hot encoding or label encoding? if yes, do so"
   ]
  },
  {
   "cell_type": "code",
   "execution_count": null,
   "metadata": {},
   "outputs": [],
   "source": []
  },
  {
   "cell_type": "markdown",
   "metadata": {},
   "source": [
    "### 6. Save cleaned dataset\n",
    "- save your cleaned and preprocessed dataset to an appropriate file type in your `data` directory"
   ]
  },
  {
   "cell_type": "code",
   "execution_count": null,
   "metadata": {},
   "outputs": [],
   "source": []
  }
 ],
 "metadata": {
  "language_info": {
   "name": "python"
  },
  "orig_nbformat": 4
 },
 "nbformat": 4,
 "nbformat_minor": 2
}
