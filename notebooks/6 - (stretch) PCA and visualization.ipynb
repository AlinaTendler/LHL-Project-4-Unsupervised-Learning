{
 "cells": [
  {
   "cell_type": "markdown",
   "metadata": {},
   "source": [
    "# PCA and (Extra) Visualization\n",
    "**Goal:** Use Principal Component Analysis (PCA) for dimensionality reduction for visualizations, and evaluate cluster performance using PCA biplots and silouette plots\n",
    "***"
   ]
  },
  {
   "cell_type": "markdown",
   "metadata": {},
   "source": [
    "## 6a - PCA for visualization\n"
   ]
  },
  {
   "cell_type": "markdown",
   "metadata": {},
   "source": [
    "### 1. Apply PCA\n",
    "- fit a PCA model on the dataset to reduce it to two principal components\n",
    "- transform the dataset to 2D with the PCA model"
   ]
  },
  {
   "cell_type": "code",
   "execution_count": null,
   "metadata": {},
   "outputs": [],
   "source": []
  },
  {
   "cell_type": "markdown",
   "metadata": {},
   "source": [
    "### 2. Visualize clusters in 2D\n",
    "- create scatter plots of the PCA-transformed data\n",
    "- colour the points based on the clustering labels from each method\n",
    "- add K-Means cluster centroids (for practice)\n",
    "- add legends, titles, etc\n"
   ]
  },
  {
   "cell_type": "code",
   "execution_count": null,
   "metadata": {},
   "outputs": [],
   "source": []
  },
  {
   "cell_type": "markdown",
   "metadata": {},
   "source": [
    "## 6b - PCA Biplots"
   ]
  },
  {
   "cell_type": "markdown",
   "metadata": {},
   "source": [
    "### 1. Understand PCA biplots\n",
    "- review the following resources as needed to understand PCA Biplots\n",
    "    - [How to Read PCA Biplots and Screen Plots - BioTuring](https://bioturing.medium.com/how-to-read-pca-biplots-and-scree-plots-186246aae063)\n",
    "    - [Principal Components: BiPlots - Forrest Young's Notes](https://www.uv.es/visualstats/vista-frames/help/lecturenotes/lecture13/biplot.html)\n",
    "    - [How to Make PCA Biplots in Python - JC Chouinard](https://www.jcchouinard.com/python-pca-biplots-machine-learning/)"
   ]
  },
  {
   "cell_type": "code",
   "execution_count": null,
   "metadata": {},
   "outputs": [],
   "source": []
  },
  {
   "cell_type": "markdown",
   "metadata": {},
   "source": [
    "2. Create a PCA biplot\n",
    "- plot the PCA-reduced dataset as a scatter plot (first as 2D)\n",
    "- add feature vectors (loadings) as arrows pointing in the driection of their contribution\n",
    "- annotate feature vectors and PCs (axes in this case)\n",
    "- optionally, make a 3D biplot as described farther down in [this tutorial](https://www.jcchouinard.com/python-pca-biplots-machine-learning/)"
   ]
  },
  {
   "cell_type": "code",
   "execution_count": null,
   "metadata": {},
   "outputs": [],
   "source": []
  },
  {
   "cell_type": "markdown",
   "metadata": {},
   "source": [
    "### 3. Interpet biplot\n",
    "- observe which features contribute most to each principal component\n",
    "- relate the directions of feature vectors to clusters identified by your earlier clustering"
   ]
  },
  {
   "cell_type": "code",
   "execution_count": null,
   "metadata": {},
   "outputs": [],
   "source": []
  },
  {
   "cell_type": "markdown",
   "metadata": {},
   "source": [
    "## 6c - Silhouette Plots"
   ]
  },
  {
   "cell_type": "markdown",
   "metadata": {},
   "source": [
    "### 1. Calculate silouette scores\n",
    "- calculate the silhouette scores for the clusters created by each clustering method (or go back to the Evaluation notebook where you calculated them previously)"
   ]
  },
  {
   "cell_type": "code",
   "execution_count": null,
   "metadata": {},
   "outputs": [],
   "source": []
  },
  {
   "cell_type": "markdown",
   "metadata": {},
   "source": [
    "### 2. Generate silhouette plots\n",
    "- follow the [Scikit-learn silhouette plot example](https://scikit-learn.org/stable/auto_examples/cluster/plot_kmeans_silhouette_analysis.html) to create silhouette plots for each clustering method to see how each individual point cotributes to a cluster's overall sihouette score\n",
    "- optionally, go back and generate silhouette plots for different cluster counts for K-Means and Hierarchical clustering, and see if your opinion on optimal cluster count changes"
   ]
  },
  {
   "cell_type": "code",
   "execution_count": null,
   "metadata": {},
   "outputs": [],
   "source": []
  }
 ],
 "metadata": {
  "language_info": {
   "name": "python"
  },
  "orig_nbformat": 4
 },
 "nbformat": 4,
 "nbformat_minor": 2
}
