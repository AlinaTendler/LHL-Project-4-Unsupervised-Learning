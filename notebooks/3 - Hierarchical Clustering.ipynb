{
 "cells": [
  {
   "cell_type": "markdown",
   "metadata": {},
   "source": [
    "# Hierarchical Clustering\n",
    "**Goal:** Use hierarchical clustering to identify groupings in the dataset, and analyze the characteristics of the resuting clusters."
   ]
  },
  {
   "cell_type": "markdown",
   "metadata": {},
   "source": [
    "### 1. Load preprocessed dataset\n",
    "- load the dataset prepared in the EDA notebook"
   ]
  },
  {
   "cell_type": "code",
   "execution_count": null,
   "metadata": {},
   "outputs": [],
   "source": []
  },
  {
   "cell_type": "markdown",
   "metadata": {},
   "source": [
    "### 2. Perform hierarchical clustering\n",
    "- try agglomorative clustering with a few different linkage methods (eg average, complete, ward, etc)\n",
    "- generate dendograms to visualize the clustering hierarchy\n",
    "- choose the linkage method that produces a dendogram with clear, meaningful splits"
   ]
  },
  {
   "cell_type": "code",
   "execution_count": null,
   "metadata": {},
   "outputs": [],
   "source": []
  },
  {
   "cell_type": "markdown",
   "metadata": {},
   "source": [
    "### 3. Determine optimal number of clusters\n",
    "- use the dendogram with your chosen linkage method to decide on a number of clusters (longest vertical line that doesn't cross a horizontal split)\n",
    "- add your chosen number of clusters to your agglomorative clustering model hyperparameters"
   ]
  },
  {
   "cell_type": "code",
   "execution_count": null,
   "metadata": {},
   "outputs": [],
   "source": []
  },
  {
   "cell_type": "markdown",
   "metadata": {},
   "source": [
    "### 4. Analyze cluster characteristics\n",
    "-  assign cluster labels to the dataset\n",
    "- examine the summary statistics of each cluster to identify distinguishing features (include these features in the Hierarchical Clustering step in your `README.md`)"
   ]
  },
  {
   "cell_type": "code",
   "execution_count": null,
   "metadata": {},
   "outputs": [],
   "source": []
  },
  {
   "cell_type": "markdown",
   "metadata": {},
   "source": [
    "### 5. Visualize\n",
    "- create scatter plots, pair plots, and/or a dendogram to visualize final clusters"
   ]
  },
  {
   "cell_type": "code",
   "execution_count": null,
   "metadata": {},
   "outputs": [],
   "source": []
  },
  {
   "cell_type": "markdown",
   "metadata": {},
   "source": [
    "### 6. Save clustered data\n",
    "- save the results of your clustering to a file for later comparison"
   ]
  }
 ],
 "metadata": {
  "kernelspec": {
   "display_name": "Python 3",
   "language": "python",
   "name": "python3"
  },
  "language_info": {
   "name": "python",
   "version": "3.12.4"
  },
  "orig_nbformat": 4
 },
 "nbformat": 4,
 "nbformat_minor": 2
}
